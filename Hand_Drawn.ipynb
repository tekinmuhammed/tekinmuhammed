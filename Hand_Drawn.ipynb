{
  "nbformat": 4,
  "nbformat_minor": 0,
  "metadata": {
    "colab": {
      "provenance": [],
      "mount_file_id": "1Pad2k0ch4cxm69Lw7CIT68bh1r5_eOwX",
      "authorship_tag": "ABX9TyO5WsO/xrbtN523OzEReEbi",
      "include_colab_link": true
    },
    "kernelspec": {
      "name": "python3",
      "display_name": "Python 3"
    },
    "language_info": {
      "name": "python"
    }
  },
  "cells": [
    {
      "cell_type": "markdown",
      "metadata": {
        "id": "view-in-github",
        "colab_type": "text"
      },
      "source": [
        "<a href=\"https://colab.research.google.com/github/tekinmuhammed/tekinmuhammed/blob/main/Hand_Drawn.ipynb\" target=\"_parent\"><img src=\"https://colab.research.google.com/assets/colab-badge.svg\" alt=\"Open In Colab\"/></a>"
      ]
    },
    {
      "cell_type": "markdown",
      "source": [
        "Necessary libraries/modules for the code execution"
      ],
      "metadata": {
        "id": "R4pWsnjguSr3"
      }
    },
    {
      "cell_type": "code",
      "execution_count": 26,
      "metadata": {
        "id": "bzhhoBNr1b68"
      },
      "outputs": [],
      "source": [
        "import numpy as np"
      ]
    },
    {
      "cell_type": "code",
      "source": [
        "import imageio"
      ],
      "metadata": {
        "id": "BAx8Ykoh1vSi"
      },
      "execution_count": 27,
      "outputs": []
    },
    {
      "cell_type": "code",
      "source": [
        "import scipy.ndimage"
      ],
      "metadata": {
        "id": "ouVheQSd1z0C"
      },
      "execution_count": 28,
      "outputs": []
    },
    {
      "cell_type": "code",
      "source": [
        "import cv2"
      ],
      "metadata": {
        "id": "N7x1hLTB10W-"
      },
      "execution_count": 29,
      "outputs": []
    },
    {
      "cell_type": "code",
      "source": [
        "import os\n",
        "img_path = os.path.join('/content/Potter.jpg')"
      ],
      "metadata": {
        "id": "gwC7gLICm36O"
      },
      "execution_count": 35,
      "outputs": []
    },
    {
      "cell_type": "code",
      "source": [
        "img = \"Potter.jpg\""
      ],
      "metadata": {
        "id": "y5Ewu43mhoqX"
      },
      "execution_count": 37,
      "outputs": []
    },
    {
      "cell_type": "markdown",
      "source": [
        " Function to convert an RGB image to grayscale using the luminosity method. Calculates the weighted sum of the RGB channels to get a single grayscale value."
      ],
      "metadata": {
        "id": "yk0Ntsinvfb6"
      }
    },
    {
      "cell_type": "code",
      "source": [
        "def rgb2gray(rgb):\n",
        "  return np.dot(rgb[...,:3],[0.2989,0.5878,0.1140])"
      ],
      "metadata": {
        "id": "ADZs7bsAhwcb"
      },
      "execution_count": 31,
      "outputs": []
    },
    {
      "cell_type": "markdown",
      "source": [
        " Function to implement the dodge effect, which is often used in image processing to lighten the image by decreasing contrast. Takes a front image and a back image as input and applies the dodge effect formula."
      ],
      "metadata": {
        "id": "cK9YiRkVvxwQ"
      }
    },
    {
      "cell_type": "code",
      "source": [
        "from typing_extensions import final\n",
        "def dodge(front , back):\n",
        "  final_sketch = front*255 /(255 - back)\n",
        "  final_sketch[final_sketch > 255] = 255\n",
        "  final_sketch[back == 255] = 255\n",
        "  return final_sketch.astype(\"uint8\")"
      ],
      "metadata": {
        "id": "VR_TRvdCiQ2H"
      },
      "execution_count": 51,
      "outputs": []
    },
    {
      "cell_type": "markdown",
      "source": [
        "Reads the image specified by img_path using imageio.imread and assigns it to the variable ss."
      ],
      "metadata": {
        "id": "ZIeDtmkbv_Y5"
      }
    },
    {
      "cell_type": "code",
      "source": [
        "ss = imageio.imread(img)"
      ],
      "metadata": {
        "colab": {
          "base_uri": "https://localhost:8080/"
        },
        "id": "vi9zVy5unH3X",
        "outputId": "459d9027-ed12-49e1-eae6-8caac35ff9e1"
      },
      "execution_count": 39,
      "outputs": [
        {
          "output_type": "stream",
          "name": "stderr",
          "text": [
            "<ipython-input-39-a3ae3e9e651d>:1: DeprecationWarning: Starting with ImageIO v3 the behavior of this function will switch to that of iio.v3.imread. To keep the current behavior (and make this warning disappear) use `import imageio.v2 as imageio` or call `imageio.v2.imread` directly.\n",
            "  ss = imageio.imread(img)\n"
          ]
        }
      ]
    },
    {
      "cell_type": "markdown",
      "source": [
        "Converts the RGB image ss to grayscale using the rgb2gray function defined earlier."
      ],
      "metadata": {
        "id": "-fLq4IO5wBiS"
      }
    },
    {
      "cell_type": "code",
      "source": [
        "gray = rgb2gray(ss)"
      ],
      "metadata": {
        "id": "_OFQSLDQnViB"
      },
      "execution_count": 40,
      "outputs": []
    },
    {
      "cell_type": "code",
      "source": [
        "i = 255 - gray"
      ],
      "metadata": {
        "id": "_F_tQUo-nczZ"
      },
      "execution_count": 41,
      "outputs": []
    },
    {
      "cell_type": "markdown",
      "source": [
        "Applies Gaussian blur to the grayscale image gray with a sigma value of 15 using scipy.ndimage.gaussian_filter."
      ],
      "metadata": {
        "id": "kAk1AyxYwGPE"
      }
    },
    {
      "cell_type": "code",
      "source": [
        "blur = scipy.ndimage.gaussian_filter(i,sigma = 15)"
      ],
      "metadata": {
        "id": "kjFmmyUHngQF"
      },
      "execution_count": 42,
      "outputs": []
    },
    {
      "cell_type": "markdown",
      "source": [
        "Creates the final sketch image by applying the dodge effect to the blurred image blur and the grayscale image gray."
      ],
      "metadata": {
        "id": "qrgSP8MywKZZ"
      }
    },
    {
      "cell_type": "code",
      "source": [
        "r = dodge(blur,gray)"
      ],
      "metadata": {
        "id": "21O1AQ5qn6ja"
      },
      "execution_count": 48,
      "outputs": []
    },
    {
      "cell_type": "markdown",
      "source": [
        "Saves the final sketch image r as a PNG file named \"neww.png\" using cv2.imwrite."
      ],
      "metadata": {
        "id": "nHBZK0JZwrLR"
      }
    },
    {
      "cell_type": "code",
      "source": [
        "cv2.imwrite(\"neww.png\", r)"
      ],
      "metadata": {
        "colab": {
          "base_uri": "https://localhost:8080/"
        },
        "id": "HHV1pWLkntvN",
        "outputId": "0843ab79-486f-44cb-f7dd-3c1cdac89d4a"
      },
      "execution_count": 50,
      "outputs": [
        {
          "output_type": "execute_result",
          "data": {
            "text/plain": [
              "True"
            ]
          },
          "metadata": {},
          "execution_count": 50
        }
      ]
    },
    {
      "cell_type": "code",
      "source": [],
      "metadata": {
        "id": "TZeo9Pfhn2sE"
      },
      "execution_count": null,
      "outputs": []
    }
  ]
}